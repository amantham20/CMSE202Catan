{
 "cells": [
  {
   "cell_type": "code",
   "execution_count": 79,
   "metadata": {},
   "outputs": [],
   "source": [
    "from catanatron_experimental.machine_learning.players.minimax import AlphaBetaPlayer\n",
    "from catanatron_core.catanatron.players.weighted_random import WeightedRandomPlayer\n",
    "# from fortomm import PlayerE\n",
    "from fortomm import FooPlayer\n",
    "from catanatron import Game, RandomPlayer, Color\n",
    "from collections import Counter\n",
    "from catanatron import Player\n",
    "from catanatron.models.actions import ActionType\n",
    "import random\n",
    "from catanatron.state_functions import player_key"
   ]
  },
  {
   "cell_type": "code",
   "execution_count": 80,
   "metadata": {},
   "outputs": [],
   "source": [
    "class GP(Player):\n",
    "    \n",
    "    def __init__(self,color):\n",
    "        super().__init__(color)\n",
    "        self.INITIAL_WEIGHTS_BY_ACTION_TYPE = {\n",
    "            ActionType.BUILD_CITY: random.randint(100,10000),\n",
    "            ActionType.BUILD_SETTLEMENT: random.randint(100,10000),\n",
    "            ActionType.BUY_DEVELOPMENT_CARD: random.randint(100,10000),\n",
    "            ActionType.BUILD_ROAD: random.randint(100,10000)\n",
    "        }\n",
    "        \n",
    "        self.MID_WEIGHTS_BY_ACTION_TYPE = {\n",
    "            ActionType.BUILD_CITY: random.randint(100,10000),\n",
    "            ActionType.BUILD_SETTLEMENT: random.randint(100,10000),\n",
    "            ActionType.BUY_DEVELOPMENT_CARD: random.randint(100,10000),\n",
    "            ActionType.BUILD_ROAD: random.randint(100,10000)\n",
    "        }\n",
    "        \n",
    "        \n",
    "        self.LATE_WEIGHTS_BY_ACTION_TYPE = {\n",
    "            ActionType.BUILD_CITY: random.randint(100,10000),\n",
    "            ActionType.BUILD_SETTLEMENT: random.randint(100,10000),\n",
    "            ActionType.BUY_DEVELOPMENT_CARD: random.randint(100,10000),\n",
    "            ActionType.BUILD_ROAD: random.randint(100,10000)\n",
    "        }\n",
    "        \n",
    "    def get_VP(self, game):\n",
    "        \"\"\"Returns the current Victory Points of the Player\"\"\"\n",
    "        key = player_key(game.state, self.color)\n",
    "        return game.state.player_state[f\"{key}_ACTUAL_VICTORY_POINTS\"]\n",
    "    \n",
    "    def decide(self, game, playable_actions):\n",
    "        \"\"\"Should return one of the playable_actions.\n",
    "\n",
    "        Args:\n",
    "            game (Game): complete game state. read-only.\n",
    "            playable_actions (Iterable[Action]): options to choose from\n",
    "        Return:\n",
    "            action (Action): Chosen element of playable_actions\n",
    "        \"\"\"\n",
    "\n",
    "        \n",
    "        bloated_actions = []\n",
    "        for action in playable_actions:\n",
    "            if self.get_VP(game) < 5:\n",
    "                weight = self.INITIAL_WEIGHTS_BY_ACTION_TYPE.get(action.action_type, 1)\n",
    "                bloated_actions.extend([action] * weight)\n",
    "            elif self.get_VP(game) > 4 and self.get_VP(game) < 8:\n",
    "                weight = self.MID_WEIGHTS_BY_ACTION_TYPE.get(action.action_type, 1)\n",
    "                bloated_actions.extend([action] * weight)\n",
    "            elif self.get_VP(game) > 7:\n",
    "                weight = self.LATE_WEIGHTS_BY_ACTION_TYPE.get(action.action_type, 1)\n",
    "                bloated_actions.extend([action] * weight)\n",
    "            \n",
    "        index = random.randrange(0, len(bloated_actions))\n",
    "        if self.analysis:\n",
    "            self.analysis(bloated_actions[index], self.color)\n",
    "        return bloated_actions[index]\n",
    "    \n",
    "    def get_weights(self):\n",
    "        \"\"\"Returns List of 12 Weights in order [City,Settlement,Dev Card,Road],\n",
    "        The first 4 correspond to weights in Early Game (VP<5),\n",
    "        The next 4 correspond to weights in Mid Game (4<VP<8),\n",
    "        The final 4 correspond to weights in Late Game (VP>7),\n",
    "        \"\"\"\n",
    "        weights = [self.INITIAL_WEIGHTS_BY_ACTION_TYPE[ActionType.BUILD_CITY],self.INITIAL_WEIGHTS_BY_ACTION_TYPE[ActionType.BUILD_SETTLEMENT],self.INITIAL_WEIGHTS_BY_ACTION_TYPE[ActionType.BUY_DEVELOPMENT_CARD],self.INITIAL_WEIGHTS_BY_ACTION_TYPE[ActionType.BUILD_ROAD],self.MID_WEIGHTS_BY_ACTION_TYPE[ActionType.BUILD_CITY],self.MID_WEIGHTS_BY_ACTION_TYPE[ActionType.BUILD_SETTLEMENT],self.MID_WEIGHTS_BY_ACTION_TYPE[ActionType.BUY_DEVELOPMENT_CARD],self.MID_WEIGHTS_BY_ACTION_TYPE[ActionType.BUILD_ROAD],self.LATE_WEIGHTS_BY_ACTION_TYPE[ActionType.BUILD_CITY],self.LATE_WEIGHTS_BY_ACTION_TYPE[ActionType.BUILD_SETTLEMENT],self.LATE_WEIGHTS_BY_ACTION_TYPE[ActionType.BUY_DEVELOPMENT_CARD],self.LATE_WEIGHTS_BY_ACTION_TYPE[ActionType.BUILD_ROAD]]\n",
    "        return weights\n",
    "    \n",
    "    def get_color(self):\n",
    "        \"\"\"Returns the Color of the Player\"\"\"\n",
    "        return self.color\n",
    "    \n",
    "    def set_color(self,color):\n",
    "        \"\"\"Sets the Color of the Player\n",
    "        \n",
    "        Args:\n",
    "            color: color to set for the player\n",
    "        \"\"\"\n",
    "        self.color = color\n",
    "    \n",
    "    def set_weights(self,weights):\n",
    "        \"\"\"Sets the Weights that skew the Players Actions in Game\n",
    "        \n",
    "        Args:\n",
    "            weights: list of weights (same format as seen in self.get_weights())\n",
    "        \"\"\"\n",
    "        \n",
    "        self.INITIAL_WEIGHTS_BY_ACTION_TYPE = {\n",
    "            ActionType.BUILD_CITY: weights[0],\n",
    "            ActionType.BUILD_SETTLEMENT: weights[1],\n",
    "            ActionType.BUY_DEVELOPMENT_CARD: weights[2],\n",
    "            ActionType.BUILD_ROAD: weights[3]\n",
    "        }\n",
    "        \n",
    "        self.MID_WEIGHTS_BY_ACTION_TYPE = {\n",
    "            ActionType.BUILD_CITY: weights[4],\n",
    "            ActionType.BUILD_SETTLEMENT: weights[5],\n",
    "            ActionType.BUY_DEVELOPMENT_CARD: weights[6],\n",
    "            ActionType.BUILD_ROAD: weights[7]\n",
    "        }\n",
    "        \n",
    "        \n",
    "        self.LATE_WEIGHTS_BY_ACTION_TYPE = {\n",
    "            ActionType.BUILD_CITY: weights[8],\n",
    "            ActionType.BUILD_SETTLEMENT: weights[9],\n",
    "            ActionType.BUY_DEVELOPMENT_CARD: weights[10],\n",
    "            ActionType.BUILD_ROAD: weights[11]\n",
    "        }\n",
    "    "
   ]
  },
  {
   "cell_type": "markdown",
   "metadata": {},
   "source": []
  },
  {
   "cell_type": "code",
   "execution_count": 81,
   "metadata": {},
   "outputs": [
    {
     "name": "stdout",
     "output_type": "stream",
     "text": [
      "{<ActionType.BUILD_CITY: 'BUILD_CITY'>: 8826, <ActionType.BUILD_SETTLEMENT: 'BUILD_SETTLEMENT'>: 1347, <ActionType.BUY_DEVELOPMENT_CARD: 'BUY_DEVELOPMENT_CARD'>: 91, <ActionType.BUILD_ROAD: 'BUILD_ROAD'>: 8016}\n"
     ]
    }
   ],
   "source": [
    "players = [\n",
    "    # AlphaBetaPlayer(Color.BLUE),\n",
    "    GP(Color.BLUE),\n",
    "    # WeightedRandomPlayer(Color.ORANGE),\n",
    "    # WeightedRandomPlayer(Color.RED),\n",
    "    FooPlayer(Color.WHITE),\n",
    "]\n",
    "\n",
    "playerNames = {\n",
    "    # Color.BLUE: \"AlphaBeta\",\n",
    "    Color.BLUE: \"GP Approach1\",\n",
    "    # Color.ORANGE: \"WeightedRandom 1\",\n",
    "    # Color.RED: \"WeightedRandom 2\",\n",
    "    Color.WHITE: \"GP Approach2\",\n",
    "}"
   ]
  },
  {
   "cell_type": "code",
   "execution_count": 82,
   "metadata": {},
   "outputs": [],
   "source": [
    "players[0].set_weights([6217, 9865, 2767, 111, 7019, 8607, 1596, 393, 9135, 3414, 7137, 219])"
   ]
  },
  {
   "cell_type": "code",
   "execution_count": 83,
   "metadata": {},
   "outputs": [],
   "source": [
    "NumberOfGames = 100"
   ]
  },
  {
   "cell_type": "code",
   "execution_count": 84,
   "metadata": {},
   "outputs": [],
   "source": [
    "import time\n",
    "import matplotlib.pyplot as plt\n",
    "import numpy as np\n",
    "from collections import defaultdict, Counter\n",
    "from copy import deepcopy"
   ]
  },
  {
   "cell_type": "code",
   "execution_count": 85,
   "metadata": {},
   "outputs": [],
   "source": [
    "\n",
    "\n",
    "\n",
    "class Analysis:\n",
    "    def __init__(self, playerNames={}):\n",
    "\n",
    "        self.ActionsOfPlayers = defaultdict(list)\n",
    "        self.GamesAndPlayers = {}\n",
    "        self.game = 0\n",
    "        self.playerNames = playerNames\n",
    "\n",
    "    def set_game(self, game_number):\n",
    "        self.game = game_number\n",
    "        \n",
    "    def end_game(self):\n",
    "        for i in self.ActionsOfPlayers:\n",
    "            self.GamesAndPlayers[self.game] = deepcopy(self.ActionsOfPlayers)\n",
    "\n",
    "    def record_action(self, action_name, Player_id):\n",
    "\n",
    "        self.ActionsOfPlayers[Player_id].append(action_name.action_type)\n",
    "\n",
    "\n",
    "    def generate_plot(self):\n",
    "        actions_count = {}\n",
    "        for i in self.ActionsOfPlayers:\n",
    "            actions_count[i] = Counter(self.ActionsOfPlayers[i])\n",
    "\n",
    "        temp_count = sorted(list(actions_count.keys()), key=lambda x: str(x))\n",
    "        if len(temp_count) == 4:\n",
    "            fig, axs = plt.subplots(nrows=2, ncols=2, figsize=(10, 10), sharey=True)\n",
    "            fig.suptitle('Actions of Players')\n",
    "            for i in range(4):\n",
    "                ax = axs[i // 2][i % 2]\n",
    "                x = []\n",
    "                y = []\n",
    "                for k, v in actions_count[temp_count[i]].items():\n",
    "                    if str(k)[11:] not in ['END_TURN', 'ROLL']:\n",
    "                    # if str(k)[11:] in ['BUILD_CITY', 'BUILD_ROAD', 'BUILD_SETTLEMENT', 'BUY_DEVELOPMENT_CARD']:\n",
    "                        x.append(str(k)[11:])\n",
    "                        y.append(int(v))\n",
    "                \n",
    "                print(x, y)\n",
    "                ax.bar(x, y)\n",
    "\n",
    "                ax.set_title('Player {}'.format(self.playerNames[temp_count[i]]))\n",
    "                ax.set_xlabel('Actions')\n",
    "                ax.set_ylabel('Count')\n",
    "                ax.set_xticklabels(x, rotation = 80)\n",
    "                \n",
    "        elif len(temp_count) == 3:\n",
    "            fig, axs = plt.subplots(nrows=1, ncols=3, figsize=(10, 6), sharey=True)\n",
    "            fig.suptitle('Actions of Players')\n",
    "\n",
    "            for i in range(3):\n",
    "                ax = axs[i]\n",
    "                x = []\n",
    "                y = []\n",
    "                for k, v in actions_count[temp_count[i]].items():\n",
    "                    if str(k)[11:] not in ['END_TURN', 'ROLL']:\n",
    "                    # if str(k)[11:] in ['BUILD_CITY', 'BUILD_ROAD', 'BUILD_SETTLEMENT', 'BUY_DEVELOPMENT_CARD']:\n",
    "                    # if True:  \n",
    "                        x.append(str(k)[11:])\n",
    "                        y.append(int(v))\n",
    "                \n",
    "                print(x, y)\n",
    "                ax.bar(x, y, color=['blue', 'red', 'green', 'orange'])\n",
    "\n",
    "                ax.set_title('Player {}'.format(self.playerNames[temp_count[i]]))\n",
    "                ax.set_xlabel('Actions')\n",
    "                ax.set_ylabel('Count')\n",
    "                ax.set_xticklabels(x, rotation = 80)  \n",
    "        elif len(temp_count) == 2:\n",
    "            fig, axs = plt.subplots(nrows=1, ncols=2, figsize=(10, 6), sharey=True)\n",
    "            fig.suptitle('Actions of Players')\n",
    "\n",
    "            for i in range(2):\n",
    "                ax = axs[i]\n",
    "                x = []\n",
    "                y = []\n",
    "                for k, v in sorted(actions_count[temp_count[i]].items(), key=lambda x: str(x[0])):\n",
    "                    # if str(k)[11:] not in ['END_TURN', 'ROLL']:\n",
    "                    if str(k)[11:] in ['BUILD_CITY', 'BUILD_ROAD', 'BUILD_SETTLEMENT', 'BUY_DEVELOPMENT_CARD']:\n",
    "                        \n",
    "                        x.append(str(k)[11:])\n",
    "                        y.append(int(v))\n",
    "\n",
    "                print(x, y)\n",
    "                ax.bar(x, y, color=['blue', 'red', 'green', 'orange'])\n",
    "\n",
    "                ax.set_title('Player {}'.format(self.playerNames[temp_count[i]]))\n",
    "                ax.set_xlabel('Actions')\n",
    "                ax.set_ylabel('Count')\n",
    "                ax.set_xticklabels(x, rotation = 80)\n",
    "        plt.tight_layout()\n",
    "        plt.show()\n",
    "\n",
    "\n",
    "\n",
    "                "
   ]
  },
  {
   "cell_type": "code",
   "execution_count": 86,
   "metadata": {},
   "outputs": [],
   "source": [
    "A = Analysis(playerNames)"
   ]
  },
  {
   "cell_type": "code",
   "execution_count": 87,
   "metadata": {},
   "outputs": [],
   "source": [
    "for i in players:\n",
    "    i.analysis = A.record_action"
   ]
  },
  {
   "cell_type": "code",
   "execution_count": 88,
   "metadata": {},
   "outputs": [
    {
     "name": "stdout",
     "output_type": "stream",
     "text": [
      "0\n",
      "1\n",
      "2\n",
      "3\n",
      "4\n",
      "5\n",
      "6\n",
      "7\n",
      "8\n",
      "9\n",
      "10\n",
      "11\n",
      "12\n",
      "13\n",
      "14\n",
      "15\n",
      "16\n",
      "17\n",
      "18\n",
      "19\n",
      "20\n",
      "21\n",
      "22\n",
      "23\n",
      "24\n",
      "25\n",
      "26\n",
      "27\n",
      "28\n",
      "29\n",
      "30\n",
      "31\n",
      "32\n",
      "33\n",
      "34\n",
      "35\n",
      "36\n",
      "37\n",
      "38\n",
      "39\n",
      "40\n",
      "41\n",
      "42\n",
      "43\n",
      "44\n",
      "45\n",
      "46\n",
      "47\n",
      "48\n",
      "49\n",
      "50\n",
      "51\n",
      "52\n",
      "53\n",
      "54\n",
      "55\n",
      "56\n",
      "57\n",
      "58\n",
      "59\n",
      "60\n",
      "61\n",
      "62\n",
      "63\n",
      "64\n",
      "65\n",
      "66\n",
      "67\n",
      "68\n",
      "69\n",
      "70\n",
      "71\n",
      "72\n",
      "73\n",
      "74\n",
      "75\n",
      "76\n",
      "77\n",
      "78\n",
      "79\n",
      "80\n",
      "81\n",
      "82\n",
      "83\n",
      "84\n",
      "85\n",
      "86\n",
      "87\n",
      "88\n",
      "89\n",
      "90\n",
      "91\n",
      "92\n",
      "93\n",
      "94\n",
      "95\n",
      "96\n",
      "97\n",
      "98\n",
      "99\n",
      "['BUILD_CITY', 'BUILD_ROAD', 'BUILD_SETTLEMENT', 'BUY_DEVELOPMENT_CARD'] [86, 1138, 348, 760]\n",
      "['BUILD_CITY', 'BUILD_ROAD', 'BUILD_SETTLEMENT', 'BUY_DEVELOPMENT_CARD'] [56, 1066, 282, 719]\n"
     ]
    },
    {
     "name": "stderr",
     "output_type": "stream",
     "text": [
      "/var/folders/yx/26cx6f8n0yz15r1qq9nt8m2c0000gr/T/ipykernel_15352/1916881388.py:91: UserWarning: FixedFormatter should only be used together with FixedLocator\n",
      "  ax.set_xticklabels(x, rotation = 80)\n",
      "/var/folders/yx/26cx6f8n0yz15r1qq9nt8m2c0000gr/T/ipykernel_15352/1916881388.py:91: UserWarning: FixedFormatter should only be used together with FixedLocator\n",
      "  ax.set_xticklabels(x, rotation = 80)\n"
     ]
    },
    {
     "data": {
      "image/png": "[encoded data removed]",
      "text/plain": [
       "<Figure size 720x432 with 2 Axes>"
      ]
     },
     "metadata": {
      "needs_background": "light"
     },
     "output_type": "display_data"
    }
   ],
   "source": [
    "victory = []\n",
    "\n",
    "# running the games for the current generation\n",
    "for games in range(NumberOfGames):\n",
    "    game = Game(players)\n",
    "    val = game.play()\n",
    "    victory.append(val)\n",
    "    print(games)\n",
    "\n",
    "c = dict(Counter(victory))\n",
    "for key in c:\n",
    "    c[key] = int(c[key] / NumberOfGames * 100)\n",
    "A.generate_plot()"
   ]
  },
  {
   "cell_type": "code",
   "execution_count": 89,
   "metadata": {},
   "outputs": [
    {
     "name": "stdout",
     "output_type": "stream",
     "text": [
      "GP Approach2 : 41\n",
      "GP Approach1 : 57\n"
     ]
    },
    {
     "ename": "KeyError",
     "evalue": "None",
     "output_type": "error",
     "traceback": [
      "\u001b[0;31m---------------------------------------------------------------------------\u001b[0m",
      "\u001b[0;31mKeyError\u001b[0m                                  Traceback (most recent call last)",
      "\u001b[1;32m/Users/thammina/catanatron-master/1v1Tester.ipynb Cell 12\u001b[0m in \u001b[0;36m<cell line: 1>\u001b[0;34m()\u001b[0m\n\u001b[1;32m      <a href='vscode-notebook-cell:/Users/thammina/catanatron-master/1v1Tester.ipynb#X12sZmlsZQ%3D%3D?line=0'>1</a>\u001b[0m \u001b[39mfor\u001b[39;00m i \u001b[39min\u001b[39;00m c:\n\u001b[0;32m----> <a href='vscode-notebook-cell:/Users/thammina/catanatron-master/1v1Tester.ipynb#X12sZmlsZQ%3D%3D?line=1'>2</a>\u001b[0m     \u001b[39mprint\u001b[39m(\u001b[39m\"\u001b[39m\u001b[39m{}\u001b[39;00m\u001b[39m : \u001b[39m\u001b[39m{}\u001b[39;00m\u001b[39m\"\u001b[39m\u001b[39m.\u001b[39mformat(playerNames[i], c[i]))\n",
      "\u001b[0;31mKeyError\u001b[0m: None"
     ]
    }
   ],
   "source": [
    "for i in c:\n",
    "    print(\"{} : {}\".format(playerNames[i], c[i]))"
   ]
  },
  {
   "cell_type": "code",
   "execution_count": null,
   "metadata": {},
   "outputs": [
    {
     "name": "stdout",
     "output_type": "stream",
     "text": [
      "['BUILD_CITY', 'BUILD_ROAD', 'BUILD_SETTLEMENT', 'BUY_DEVELOPMENT_CARD', 'DISCARD', 'MARITIME_TRADE', 'MOVE_ROBBER', 'PLAY_KNIGHT_CARD', 'PLAY_MONOPOLY', 'PLAY_ROAD_BUILDING', 'PLAY_YEAR_OF_PLENTY'] [82, 1144, 326, 845, 175, 2880, 3018, 451, 70, 63, 65]\n",
      "['BUILD_CITY', 'BUILD_ROAD', 'BUILD_SETTLEMENT', 'BUY_DEVELOPMENT_CARD', 'DISCARD', 'MARITIME_TRADE', 'MOVE_ROBBER', 'PLAY_KNIGHT_CARD', 'PLAY_MONOPOLY', 'PLAY_ROAD_BUILDING', 'PLAY_YEAR_OF_PLENTY'] [54, 1176, 299, 655, 228, 2509, 2848, 378, 52, 43, 52]\n"
     ]
    },
    {
     "name": "stderr",
     "output_type": "stream",
     "text": [
      "/var/folders/yx/26cx6f8n0yz15r1qq9nt8m2c0000gr/T/ipykernel_15352/430402508.py:91: UserWarning: FixedFormatter should only be used together with FixedLocator\n",
      "  ax.set_xticklabels(x, rotation = 80)\n",
      "/var/folders/yx/26cx6f8n0yz15r1qq9nt8m2c0000gr/T/ipykernel_15352/430402508.py:91: UserWarning: FixedFormatter should only be used together with FixedLocator\n",
      "  ax.set_xticklabels(x, rotation = 80)\n"
     ]
    },
    {
     "data": {
      "image/png": "[encoded data removed]",
      "text/plain": [
       "<Figure size 720x432 with 2 Axes>"
      ]
     },
     "metadata": {
      "needs_background": "light"
     },
     "output_type": "display_data"
    }
   ],
   "source": [
    "A.generate_plot()"
   ]
  },
  {
   "cell_type": "code",
   "execution_count": null,
   "metadata": {},
   "outputs": [],
   "source": []
  },
  {
   "cell_type": "code",
   "execution_count": null,
   "metadata": {},
   "outputs": [],
   "source": []
  },
  {
   "cell_type": "code",
   "execution_count": null,
   "metadata": {},
   "outputs": [],
   "source": []
  }
 ],
 "metadata": {
  "kernelspec": {
   "display_name": "base",
   "language": "python",
   "name": "python3"
  },
  "language_info": {
   "codemirror_mode": {
    "name": "ipython",
    "version": 3
   },
   "file_extension": ".py",
   "mimetype": "text/x-python",
   "name": "python",
   "nbconvert_exporter": "python",
   "pygments_lexer": "ipython3",
   "version": "3.9.12"
  },
  "orig_nbformat": 4
 },
 "nbformat": 4,
 "nbformat_minor": 2
}
